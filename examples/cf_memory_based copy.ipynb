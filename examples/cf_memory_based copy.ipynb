{
 "cells": [
  {
   "cell_type": "code",
   "execution_count": 1,
   "metadata": {},
   "outputs": [],
   "source": [
    "import sys\n",
    "import warnings\n",
    "\n",
    "sys.path.append(\"..\")\n",
    "warnings.filterwarnings(\"ignore\")"
   ]
  },
  {
   "cell_type": "code",
   "execution_count": 2,
   "metadata": {},
   "outputs": [],
   "source": [
    "import pandas as pd\n",
    "from model.basic.collaborative_filtering.model_based.unsupervised import SVDModelCF, NMFModelCF\n",
    "from data_builder.user_item_data import UserItemData"
   ]
  },
  {
   "cell_type": "markdown",
   "metadata": {},
   "source": [
    "## Load Dataset"
   ]
  },
  {
   "cell_type": "code",
   "execution_count": 3,
   "metadata": {},
   "outputs": [
    {
     "name": "stdout",
     "output_type": "stream",
     "text": [
      "Movies DataFrame:\n",
      "   movieId                               title  \\\n",
      "0        1                    Toy Story (1995)   \n",
      "1        2                      Jumanji (1995)   \n",
      "2        3             Grumpier Old Men (1995)   \n",
      "3        4            Waiting to Exhale (1995)   \n",
      "4        5  Father of the Bride Part II (1995)   \n",
      "\n",
      "                                        genres  \n",
      "0  Adventure|Animation|Children|Comedy|Fantasy  \n",
      "1                   Adventure|Children|Fantasy  \n",
      "2                               Comedy|Romance  \n",
      "3                         Comedy|Drama|Romance  \n",
      "4                                       Comedy  \n",
      "\n",
      "Ratings DataFrame:\n",
      "   user_id  item_id  feedback  timestamp\n",
      "0        1        1       4.0  964982703\n",
      "1        1        3       4.0  964981247\n",
      "2        1        6       4.0  964982224\n",
      "3        1       47       5.0  964983815\n",
      "4        1       50       5.0  964982931\n"
     ]
    }
   ],
   "source": [
    "movies = pd.read_csv('../demo_data/movies.csv')\n",
    "ratings = pd.read_csv('../demo_data/ratings.csv')\n",
    "\n",
    "ratings.rename(columns={'userId': 'user_id', 'movieId': 'item_id', 'rating': 'feedback'}, inplace=True)\n",
    "\n",
    "print(\"Movies DataFrame:\")\n",
    "print(movies.head())\n",
    "\n",
    "print(\"\\nRatings DataFrame:\")\n",
    "print(ratings.head())"
   ]
  },
  {
   "cell_type": "code",
   "execution_count": 4,
   "metadata": {},
   "outputs": [],
   "source": [
    "user_item_data = UserItemData(ratings)\n",
    "user_item_matrix = user_item_data.build_user_item_matrix()"
   ]
  },
  {
   "cell_type": "markdown",
   "metadata": {},
   "source": [
    "## SVD Recommender"
   ]
  },
  {
   "cell_type": "code",
   "execution_count": 5,
   "metadata": {},
   "outputs": [],
   "source": [
    "recommender = SVDModelCF(user_item_matrix, n_factors=10)\n",
    "recommender.compute_svd()\n"
   ]
  },
  {
   "cell_type": "code",
   "execution_count": 6,
   "metadata": {},
   "outputs": [
    {
     "name": "stdout",
     "output_type": "stream",
     "text": [
      "\n",
      "Recommended Movies for User 1:\n",
      "Movie ID: 589, Movie: Terminator 2: Judgment Day (1991), Predicted Feedback: 3.45\n",
      "Movie ID: 858, Movie: Godfather, The (1972), Predicted Feedback: 3.33\n",
      "Movie ID: 1200, Movie: Aliens (1986), Predicted Feedback: 3.25\n",
      "Movie ID: 1036, Movie: Die Hard (1988), Predicted Feedback: 3.20\n",
      "Movie ID: 2762, Movie: Sixth Sense, The (1999), Predicted Feedback: 3.11\n"
     ]
    }
   ],
   "source": [
    "user_id = 1\n",
    "predicted_feedback = recommender.predict_feedback(user_id)\n",
    "\n",
    "recommended_items = recommender.recommend_items(predicted_feedback, user_id, n_recomm=5)\n",
    "\n",
    "movie_id_to_title = pd.Series(movies.title.values, index=movies.movieId).to_dict()\n",
    "\n",
    "print(f\"\\nRecommended Movies for User {user_id}:\")\n",
    "for item_id, feedback_score in recommended_items:\n",
    "    movie_title = movie_id_to_title.get(item_id, \"Unknown Movie\")\n",
    "    print(f\"Movie ID: {item_id}, Movie: {movie_title}, Predicted Feedback: {feedback_score:.2f}\")"
   ]
  },
  {
   "cell_type": "markdown",
   "metadata": {},
   "source": [
    "## NMF Recommender"
   ]
  },
  {
   "cell_type": "code",
   "execution_count": 7,
   "metadata": {},
   "outputs": [],
   "source": [
    "recommender = NMFModelCF(user_item_matrix, n_factors=10, max_iter=250)\n",
    "recommender.compute_nmf()"
   ]
  },
  {
   "cell_type": "code",
   "execution_count": 9,
   "metadata": {},
   "outputs": [
    {
     "name": "stdout",
     "output_type": "stream",
     "text": [
      "\n",
      "Recommended Movies for User 1:\n",
      "Movie ID: 589, Movie: Terminator 2: Judgment Day (1991), Predicted Feedback: 4.36\n",
      "Movie ID: 1200, Movie: Aliens (1986), Predicted Feedback: 4.12\n",
      "Movie ID: 1036, Movie: Die Hard (1988), Predicted Feedback: 3.64\n",
      "Movie ID: 2762, Movie: Sixth Sense, The (1999), Predicted Feedback: 3.30\n",
      "Movie ID: 1610, Movie: Hunt for Red October, The (1990), Predicted Feedback: 3.18\n"
     ]
    }
   ],
   "source": [
    "user_id = 1\n",
    "predicted_feedback = recommender.predict_feedback(user_id)\n",
    "\n",
    "recommended_items = recommender.recommend_items(predicted_feedback, user_id, n_recomm=5)\n",
    "\n",
    "movie_id_to_title = pd.Series(movies.title.values, index=movies.movieId).to_dict()\n",
    "\n",
    "print(f\"\\nRecommended Movies for User {user_id}:\")\n",
    "for item_id, feedback_score in recommended_items:\n",
    "    movie_title = movie_id_to_title.get(item_id, \"Unknown Movie\")\n",
    "    print(f\"Movie ID: {item_id}, Movie: {movie_title}, Predicted Feedback: {feedback_score:.2f}\")"
   ]
  }
 ],
 "metadata": {
  "kernelspec": {
   "display_name": "ml",
   "language": "python",
   "name": "python3"
  },
  "language_info": {
   "codemirror_mode": {
    "name": "ipython",
    "version": 3
   },
   "file_extension": ".py",
   "mimetype": "text/x-python",
   "name": "python",
   "nbconvert_exporter": "python",
   "pygments_lexer": "ipython3",
   "version": "3.10.9"
  }
 },
 "nbformat": 4,
 "nbformat_minor": 2
}
