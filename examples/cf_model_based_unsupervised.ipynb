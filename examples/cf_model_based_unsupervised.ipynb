{
 "cells": [
  {
   "cell_type": "code",
   "execution_count": 1,
   "metadata": {},
   "outputs": [],
   "source": [
    "import sys\n",
    "import warnings\n",
    "\n",
    "sys.path.append(\"..\")\n",
    "warnings.filterwarnings(\"ignore\")"
   ]
  },
  {
   "cell_type": "code",
   "execution_count": 2,
   "metadata": {},
   "outputs": [],
   "source": [
    "import pandas as pd\n",
    "from model.basic.collaborative_filtering.memory_based import UserBasedMemoryCF\n",
    "from model.basic.collaborative_filtering.memory_based import ItemBasedMemoryCF\n",
    "from data_builder.user_item_data import UserItemData"
   ]
  },
  {
   "cell_type": "code",
   "execution_count": 3,
   "metadata": {},
   "outputs": [
    {
     "name": "stdout",
     "output_type": "stream",
     "text": [
      "Movies DataFrame:\n",
      "   movieId                               title  \\\n",
      "0        1                    Toy Story (1995)   \n",
      "1        2                      Jumanji (1995)   \n",
      "2        3             Grumpier Old Men (1995)   \n",
      "3        4            Waiting to Exhale (1995)   \n",
      "4        5  Father of the Bride Part II (1995)   \n",
      "\n",
      "                                        genres  \n",
      "0  Adventure|Animation|Children|Comedy|Fantasy  \n",
      "1                   Adventure|Children|Fantasy  \n",
      "2                               Comedy|Romance  \n",
      "3                         Comedy|Drama|Romance  \n",
      "4                                       Comedy  \n",
      "\n",
      "Ratings DataFrame:\n",
      "   user_id  item_id  feedback  timestamp\n",
      "0        1        1       4.0  964982703\n",
      "1        1        3       4.0  964981247\n",
      "2        1        6       4.0  964982224\n",
      "3        1       47       5.0  964983815\n",
      "4        1       50       5.0  964982931\n"
     ]
    }
   ],
   "source": [
    "movies = pd.read_csv('../demo_data/movies.csv')\n",
    "ratings = pd.read_csv('../demo_data/ratings.csv')\n",
    "\n",
    "ratings.rename(columns={'userId': 'user_id', 'movieId': 'item_id', 'rating': 'feedback'}, inplace=True)\n",
    "\n",
    "print(\"Movies DataFrame:\")\n",
    "print(movies.head())\n",
    "\n",
    "print(\"\\nRatings DataFrame:\")\n",
    "print(ratings.head())"
   ]
  },
  {
   "cell_type": "code",
   "execution_count": 4,
   "metadata": {},
   "outputs": [],
   "source": [
    "user_item_data = UserItemData(ratings)\n",
    "user_item_matrix = user_item_data.build_user_item_matrix()"
   ]
  },
  {
   "cell_type": "code",
   "execution_count": 5,
   "metadata": {},
   "outputs": [
    {
     "name": "stdout",
     "output_type": "stream",
     "text": [
      "\n",
      "Recommended Movies for User 1:\n",
      "Movie ID: 318, Movie: Shawshank Redemption, The (1994), Predicted Feedback: 2.65\n",
      "Movie ID: 589, Movie: Terminator 2: Judgment Day (1991), Predicted Feedback: 2.09\n",
      "Movie ID: 858, Movie: Godfather, The (1972), Predicted Feedback: 1.86\n",
      "Movie ID: 2762, Movie: Sixth Sense, The (1999), Predicted Feedback: 1.66\n",
      "Movie ID: 4993, Movie: Lord of the Rings: The Fellowship of the Ring, The (2001), Predicted Feedback: 1.62\n"
     ]
    }
   ],
   "source": [
    "recommender = UserBasedMemoryCF(user_item_matrix, similarity_metric='cosine')\n",
    "\n",
    "user_id = 1\n",
    "predicted_feedback = recommender.predict_feedback(user_id)\n",
    "\n",
    "recommended_items = recommender.recommend_items(predicted_feedback, user_id, n_recomm=5)\n",
    "\n",
    "movie_id_to_title = pd.Series(movies.title.values, index=movies.movieId).to_dict()\n",
    "\n",
    "print(f\"\\nRecommended Movies for User {user_id}:\")\n",
    "for item_id, feedback_score in recommended_items:\n",
    "    movie_title = movie_id_to_title.get(item_id, \"Unknown Movie\")\n",
    "    print(f\"Movie ID: {item_id}, Movie: {movie_title}, Predicted Feedback: {feedback_score:.2f}\")"
   ]
  },
  {
   "cell_type": "code",
   "execution_count": 6,
   "metadata": {},
   "outputs": [],
   "source": [
    "user_item_data = UserItemData(ratings)\n",
    "user_item_matrix = user_item_data.build_user_item_matrix()"
   ]
  },
  {
   "cell_type": "code",
   "execution_count": 7,
   "metadata": {},
   "outputs": [],
   "source": [
    "item_cf_model = ItemBasedMemoryCF(user_item_matrix, similarity_metric='cosine')\n",
    "item_cf_model.compute_item_similarity() "
   ]
  },
  {
   "cell_type": "code",
   "execution_count": 8,
   "metadata": {},
   "outputs": [
    {
     "name": "stdout",
     "output_type": "stream",
     "text": [
      "Recommendations for User 1\n",
      "Movie ID: 6145, Title: Venom (1982), Predicted Feedback: 1.77\n",
      "Movie ID: 876, Title: Supercop 2 (Project S) (Chao ji ji hua) (1993), Predicted Feedback: 1.50\n",
      "Movie ID: 61697, Title: Righteous Kill (2008), Predicted Feedback: 1.36\n",
      "Movie ID: 476, Title: Inkwell, The (1994), Predicted Feedback: 1.33\n",
      "Movie ID: 2812, Title: In Too Deep (1999), Predicted Feedback: 1.33\n"
     ]
    }
   ],
   "source": [
    "user_id = 1\n",
    "predicted_feedback = item_cf_model.predict_feedback(user_id)\n",
    "\n",
    "recommendations = item_cf_model.recommend_items(predicted_feedback, user_id, n_recomm=5)\n",
    "\n",
    "recommended_movie_ids = [item for item, _ in recommendations]\n",
    "recommended_movies = movies[movies['movieId'].isin(recommended_movie_ids)]\n",
    "print(\"Recommendations for User\", user_id)\n",
    "for item, feedback in recommendations:\n",
    "    movie_title = recommended_movies[recommended_movies['movieId'] == item]['title'].values[0]\n",
    "    print(f\"Movie ID: {item}, Title: {movie_title}, Predicted Feedback: {feedback:.2f}\")"
   ]
  }
 ],
 "metadata": {
  "kernelspec": {
   "display_name": "ml",
   "language": "python",
   "name": "python3"
  },
  "language_info": {
   "codemirror_mode": {
    "name": "ipython",
    "version": 3
   },
   "file_extension": ".py",
   "mimetype": "text/x-python",
   "name": "python",
   "nbconvert_exporter": "python",
   "pygments_lexer": "ipython3",
   "version": "3.10.9"
  }
 },
 "nbformat": 4,
 "nbformat_minor": 2
}
