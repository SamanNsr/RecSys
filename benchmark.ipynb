{
 "cells": [
  {
   "cell_type": "code",
   "execution_count": 1,
   "metadata": {},
   "outputs": [
    {
     "name": "stderr",
     "output_type": "stream",
     "text": [
      "/var/folders/19/plp0fk812hq1rlftnp9ck8j40000gn/T/ipykernel_30914/1105522693.py:1: DeprecationWarning: \n",
      "Pyarrow will become a required dependency of pandas in the next major release of pandas (pandas 3.0),\n",
      "(to allow more performant data types, such as the Arrow string type, and better interoperability with other libraries)\n",
      "but was not found to be installed on your system.\n",
      "If this would cause problems for you,\n",
      "please provide us feedback at https://github.com/pandas-dev/pandas/issues/54466\n",
      "        \n",
      "  import pandas as pd\n"
     ]
    }
   ],
   "source": [
    "import pandas as pd\n",
    "from model.basic.collaborative_filtering.memory_based.user_based_cf import UserBasedMemoryCF\n",
    "from data.user_item_data import UserItemData"
   ]
  },
  {
   "cell_type": "code",
   "execution_count": 2,
   "metadata": {},
   "outputs": [
    {
     "name": "stdout",
     "output_type": "stream",
     "text": [
      "Movies DataFrame:\n",
      "   movieId                               title  \\\n",
      "0        1                    Toy Story (1995)   \n",
      "1        2                      Jumanji (1995)   \n",
      "2        3             Grumpier Old Men (1995)   \n",
      "3        4            Waiting to Exhale (1995)   \n",
      "4        5  Father of the Bride Part II (1995)   \n",
      "\n",
      "                                        genres  \n",
      "0  Adventure|Animation|Children|Comedy|Fantasy  \n",
      "1                   Adventure|Children|Fantasy  \n",
      "2                               Comedy|Romance  \n",
      "3                         Comedy|Drama|Romance  \n",
      "4                                       Comedy  \n",
      "\n",
      "Ratings DataFrame:\n",
      "   user_id  item_id  feedback  timestamp\n",
      "0        1        1       4.0  964982703\n",
      "1        1        3       4.0  964981247\n",
      "2        1        6       4.0  964982224\n",
      "3        1       47       5.0  964983815\n",
      "4        1       50       5.0  964982931\n"
     ]
    }
   ],
   "source": [
    "movies = pd.read_csv('demo_data/movies.csv')\n",
    "ratings = pd.read_csv('demo_data/ratings.csv')\n",
    "\n",
    "ratings.rename(columns={'userId': 'user_id', 'movieId': 'item_id', 'rating': 'feedback'}, inplace=True)\n",
    "\n",
    "print(\"Movies DataFrame:\")\n",
    "print(movies.head())\n",
    "\n",
    "print(\"\\nRatings DataFrame:\")\n",
    "print(ratings.head())"
   ]
  },
  {
   "cell_type": "code",
   "execution_count": 3,
   "metadata": {},
   "outputs": [],
   "source": [
    "user_item_data = UserItemData(ratings)\n",
    "user_item_matrix = user_item_data.build_user_item_matrix()"
   ]
  },
  {
   "cell_type": "code",
   "execution_count": 7,
   "metadata": {},
   "outputs": [
    {
     "name": "stdout",
     "output_type": "stream",
     "text": [
      "User similarity matrix computed.\n",
      "\n",
      "Recommended Movies for User 3:\n",
      "Movie ID: 260, Movie: Star Wars: Episode IV - A New Hope (1977), Predicted Feedback: 2.43\n",
      "Movie ID: 1196, Movie: Star Wars: Episode V - The Empire Strikes Back (1980), Predicted Feedback: 2.34\n",
      "Movie ID: 2571, Movie: Matrix, The (1999), Predicted Feedback: 2.23\n",
      "Movie ID: 356, Movie: Forrest Gump (1994), Predicted Feedback: 2.15\n",
      "Movie ID: 593, Movie: Silence of the Lambs, The (1991), Predicted Feedback: 2.11\n"
     ]
    }
   ],
   "source": [
    "recommender = UserBasedMemoryCF(user_item_matrix, similarity_metric='cosine')\n",
    "\n",
    "user_id = 3\n",
    "predicted_feedback = recommender.predict_feedback(user_id)\n",
    "\n",
    "recommended_items = recommender.recommend_items(predicted_feedback, user_id, n_recomm=5)\n",
    "\n",
    "movie_id_to_title = pd.Series(movies.title.values, index=movies.movieId).to_dict()\n",
    "\n",
    "print(f\"\\nRecommended Movies for User {user_id}:\")\n",
    "for item_id, feedback_score in recommended_items:\n",
    "    movie_title = movie_id_to_title.get(item_id, \"Unknown Movie\")\n",
    "    print(f\"Movie ID: {item_id}, Movie: {movie_title}, Predicted Feedback: {feedback_score:.2f}\")"
   ]
  },
  {
   "cell_type": "code",
   "execution_count": null,
   "metadata": {},
   "outputs": [],
   "source": []
  }
 ],
 "metadata": {
  "kernelspec": {
   "display_name": "ml",
   "language": "python",
   "name": "python3"
  },
  "language_info": {
   "codemirror_mode": {
    "name": "ipython",
    "version": 3
   },
   "file_extension": ".py",
   "mimetype": "text/x-python",
   "name": "python",
   "nbconvert_exporter": "python",
   "pygments_lexer": "ipython3",
   "version": "3.10.9"
  }
 },
 "nbformat": 4,
 "nbformat_minor": 2
}
